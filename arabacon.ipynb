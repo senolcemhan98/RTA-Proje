{
 "cells": [
  {
   "cell_type": "code",
   "execution_count": 6,
   "metadata": {},
   "outputs": [
    {
     "name": "stdout",
     "output_type": "stream",
     "text": [
      "\n",
      "Consumer kapatıldı.\n",
      "Consumer kapatıldı.\n"
     ]
    }
   ],
   "source": [
    "import folium\n",
    "import json\n",
    "from kafka import KafkaConsumer\n",
    "import time\n",
    "from geopy.geocoders import Nominatim\n",
    "import tkinter as tk\n",
    "\n",
    "\n",
    "# Kafka Consumer\n",
    "SERVER = \"localhost:9092\"\n",
    "TOPIC = \"data-topic1\"\n",
    "\n",
    "consumer = KafkaConsumer(\n",
    "    TOPIC,\n",
    "    bootstrap_servers=[SERVER],\n",
    "    auto_offset_reset=\"earliest\",\n",
    "    enable_auto_commit=True,\n",
    "    group_id=\"my-group\",\n",
    "    value_deserializer=lambda x: json.loads(x.decode(\"utf-8\")),\n",
    "    api_version=(3, 7, 0),\n",
    ")\n",
    "\n",
    "# Alanya'nın GPS koordinatları (başlangıç noktası)\n",
    "alanya_lat = 36.5740\n",
    "alanya_lon = 31.9984\n",
    "\n",
    "# Geocoder\n",
    "geolocator = Nominatim(user_agent=\"car_simulation\")\n",
    "def show_popup(car_lat, car_lon, country):\n",
    "    root = tk.Tk()\n",
    "    root.title(\"Car Position Information\")\n",
    "\n",
    "    # Pencereyi oluştur\n",
    "    msg = f\"Car Position: {car_lat}, {car_lon}\\nCountry: {country}\"\n",
    "    label = tk.Label(root, text=msg, padx=20, pady=20, font=(\"Helvetica\", 12))\n",
    "    label.pack()\n",
    "\n",
    "    # Pencereyi göster\n",
    "    button = tk.Button(root, text=\"OK\", command=root.destroy, padx=10, pady=5)\n",
    "    button.pack(pady=10)\n",
    "\n",
    "    root.mainloop()\n",
    "# Haritayı oluştur\n",
    "mymap = folium.Map(location=[alanya_lat, alanya_lon], zoom_start=13)\n",
    "\n",
    "# Araba simülasyonu\n",
    "car_lat = alanya_lat\n",
    "car_lon = alanya_lon\n",
    "\n",
    "# Araba simülasyonu başlat\n",
    "try:\n",
    "    for message in consumer:\n",
    "        data = message.value\n",
    "        car_pos = data[\"Car\"]\n",
    "        gps1_pos = data[\"GP1\"]\n",
    "        gps2_pos = data[\"GP2\"]\n",
    "\n",
    "        # Yeni GPS koordinatları al\n",
    "        car_lat = gps1_pos[0]\n",
    "        car_lon = gps1_pos[1]\n",
    "\n",
    "        # Reverse geocoding: GPS koordinatından ülke adı al\n",
    "        location = geolocator.reverse((car_lat, car_lon), language='en')\n",
    "        country = \"Unknown\"\n",
    "        if location:\n",
    "            address = location.raw.get('address', {})\n",
    "            country = address.get('country', \"Unknown\")\n",
    "\n",
    "        # Haritayı temizle\n",
    "        mymap = folium.Map(location=[alanya_lat, alanya_lon], zoom_start=13)\n",
    "\n",
    "        # Araba konumunu işaretle\n",
    "        folium.Marker(\n",
    "            location=[car_lat, car_lon],\n",
    "            popup=f\"Car position: {car_lat}, {car_lon}\\nCountry: {country}\",\n",
    "            icon=folium.Icon(color='blue', icon='info-sign')\n",
    "        ).add_to(mymap)\n",
    "\n",
    "        # Haritayı kaydet\n",
    "        mymap.save(\"alanya_car_simulation.html\")\n",
    "        show_popup(car_lat, car_lon, country)\n",
    "        # 1 saniye bekle\n",
    "        time.sleep(1)\n",
    "\n",
    "except KeyboardInterrupt:\n",
    "    print(\"\\nConsumer kapatıldı.\")\n",
    "finally:\n",
    "    consumer.close()\n",
    "    print(\"Consumer kapatıldı.\")\n"
   ]
  },
  {
   "cell_type": "code",
   "execution_count": null,
   "metadata": {},
   "outputs": [
    {
     "name": "stdout",
     "output_type": "stream",
     "text": [
      "Collecting tk\n",
      "  Downloading tk-0.1.0-py3-none-any.whl.metadata (693 bytes)\n",
      "Downloading tk-0.1.0-py3-none-any.whl (3.9 kB)\n",
      "Installing collected packages: tk\n",
      "Successfully installed tk-0.1.0\n"
     ]
    }
   ],
   "source": [
    "!pip install tk"
   ]
  }
 ],
 "metadata": {
  "kernelspec": {
   "display_name": "Tez",
   "language": "python",
   "name": "python3"
  },
  "language_info": {
   "codemirror_mode": {
    "name": "ipython",
    "version": 3
   },
   "file_extension": ".py",
   "mimetype": "text/x-python",
   "name": "python",
   "nbconvert_exporter": "python",
   "pygments_lexer": "ipython3",
   "version": "3.11.8"
  }
 },
 "nbformat": 4,
 "nbformat_minor": 2
}
