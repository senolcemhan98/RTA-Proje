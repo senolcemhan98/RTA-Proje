{
 "cells": [
  {
   "cell_type": "code",
   "execution_count": null,
   "metadata": {},
   "outputs": [],
   "source": [
    "import folium\n",
    "import json\n",
    "from kafka import KafkaConsumer\n",
    "import time\n",
    "from geopy.geocoders import Nominatim\n",
    "import tkinter as tk\n",
    "\n",
    "SERVER = \"broker:9092\"\n",
    "TOPIC = \"car_test1\"\n",
    "\n",
    "consumer = KafkaConsumer(\n",
    "    TOPIC,\n",
    "    bootstrap_servers=[SERVER],\n",
    "    auto_offset_reset=\"earliest\",\n",
    "    enable_auto_commit=True,\n",
    "    group_id=\"my-group\",\n",
    "    value_deserializer=lambda x: json.loads(x.decode(\"utf-8\")),\n",
    "    api_version=(3, 7, 0),\n",
    ")\n"
   ]
  },
  {
   "cell_type": "code",
   "execution_count": null,
   "metadata": {},
   "outputs": [
    {
     "name": "stdout",
     "output_type": "stream",
     "text": [
      "\n",
      "Consumer stopped.\n",
      "Consumer closed.\n"
     ]
    }
   ],
   "source": [
    "# Geocoder\n",
    "geolocator = Nominatim(user_agent=\"car_simulation\")\n",
    "\n",
    "def show_popup(car_lat, car_lon, country):\n",
    "    root = tk.Tk()\n",
    "    root.title(\"Car Position Information\")\n",
    "\n",
    "    msg = f\"Car Position: {car_lat}, {car_lon}\\nCountry: {country}\"\n",
    "    label = tk.Label(root, text=msg, padx=20, pady=20, font=(\"Helvetica\", 12))\n",
    "    label.pack()\n",
    "\n",
    "    button = tk.Button(root, text=\"OK\", command=root.destroy, padx=10, pady=5)\n",
    "    button.pack(pady=10)\n",
    "\n",
    "    root.mainloop()\n",
    "\n",
    "try:\n",
    "    for message in consumer:\n",
    "        print(message)\n",
    "        data = message.value\n",
    "\n",
    "        # Get actual car position from producer (x=lon, y=lat)\n",
    "        car_pos = data[\"Car\"]\n",
    "        car_lat = car_pos[1]  # y\n",
    "        car_lon = car_pos[0]  # x\n",
    "\n",
    "        # Reverse geocoding: get country from coordinates\n",
    "        location = geolocator.reverse((car_lat, car_lon), language='en')\n",
    "        country = \"Unknown\"\n",
    "        if location:\n",
    "            address = location.raw.get('address', {})\n",
    "            country = address.get('country', \"Unknown\")\n",
    "\n",
    "        # Create map centered on actual car location\n",
    "        mymap = folium.Map(location=[car_lat, car_lon], zoom_start=13)\n",
    "\n",
    "        folium.Marker(\n",
    "            location=[car_lat, car_lon],\n",
    "            popup=f\"Car position: {car_lat}, {car_lon}\\nCountry: {country}\",\n",
    "            icon=folium.Icon(color='blue', icon='info-sign')\n",
    "        ).add_to(mymap)\n",
    "\n",
    "        # Optional: Save the updated map (uncomment to enable)\n",
    "        # mymap.save(\"car_simulation_map.html\")\n",
    "\n",
    "        show_popup(car_lat, car_lon, country)\n",
    "        time.sleep(1)\n",
    "\n",
    "except KeyboardInterrupt:\n",
    "    print(\"\\nConsumer stopped.\")\n",
    "finally:\n",
    "    consumer.close()\n",
    "    print(\"Consumer closed.\")"
   ]
  },
  {
   "cell_type": "code",
   "execution_count": null,
   "metadata": {},
   "outputs": [
    {
     "name": "stderr",
     "output_type": "stream",
     "text": [
      "Exception ignored in: <function TransformNode.set_children.<locals>.<lambda> at 0x7f55a1562de0>\n",
      "Traceback (most recent call last):\n",
      "  File \"/opt/conda/lib/python3.11/site-packages/matplotlib/transforms.py\", line 198, in <lambda>\n",
      "    self, lambda _, pop=child._parents.pop, k=id_self: pop(k))\n",
      "\n",
      "KeyboardInterrupt: \n"
     ]
    }
   ],
   "source": [
    "from kafka import KafkaConsumer\n",
    "import json\n",
    "import numpy as np\n",
    "import matplotlib.pyplot as plt\n",
    "from matplotlib.animation import FuncAnimation\n",
    "\n",
    "global_errors = {\n",
    "    \"GPS1\": 0.0,\n",
    "    \"GPS2\": 0.0,\n",
    "    \"Combined\": 0.0\n",
    "}\n",
    "\n",
    "distances = {\n",
    "    \"GPS1\": [],\n",
    "    \"GPS2\": [],\n",
    "    \"Combined\": []\n",
    "}\n",
    "\n",
    "def combine_positions(gps1, gps2):\n",
    "    combined_x = (gps1[0] + gps2[0]) / 2\n",
    "    combined_y = (gps1[1] + gps2[1]) / 2\n",
    "    return (combined_x, combined_y)\n",
    "\n",
    "def calculate_distance(point1, point2):\n",
    "    return np.sqrt((point1[0] - point2[0]) ** 2 + (point1[1] - point2[1]) ** 2)\n",
    "\n",
    "def main():\n",
    "    SERVER = \"broker:9092\"\n",
    "    TOPIC = \"car_test1\"\n",
    "\n",
    "    consumer = KafkaConsumer(\n",
    "        TOPIC,\n",
    "        bootstrap_servers=[SERVER],\n",
    "        auto_offset_reset=\"earliest\",\n",
    "        enable_auto_commit=True,\n",
    "        group_id=\"my-group\",\n",
    "        value_deserializer=lambda x: json.loads(x.decode(\"utf-8\")),\n",
    "        api_version=(3, 7, 0),\n",
    "    )\n",
    "\n",
    "    fig, ax = plt.subplots()\n",
    "    x_data, y_data_gps1, y_data_gps2, y_data_combined = [], [], [], []\n",
    "\n",
    "    def update(frame):\n",
    "        for message in consumer:\n",
    "            data = message.value\n",
    "            car_pos = data[\"Car\"]\n",
    "            gps1_pos = data[\"GP1\"]\n",
    "            gps2_pos = data[\"GP2\"]\n",
    "\n",
    "            distance_gps1_to_car = calculate_distance(car_pos, gps1_pos)\n",
    "            distance_gps2_to_car = calculate_distance(car_pos, gps2_pos)\n",
    "            \n",
    "            combined_pos = combine_positions(gps1_pos, gps2_pos)\n",
    "            distance_combined_to_car = calculate_distance(car_pos, combined_pos)\n",
    "\n",
    "            global_errors[\"GPS1\"] += distance_gps1_to_car\n",
    "            global_errors[\"GPS2\"] += distance_gps2_to_car\n",
    "            global_errors[\"Combined\"] += distance_combined_to_car\n",
    "            \n",
    "            distances[\"GPS1\"].append(global_errors[\"GPS1\"])\n",
    "            distances[\"GPS2\"].append(global_errors[\"GPS2\"])\n",
    "            distances[\"Combined\"].append(global_errors[\"Combined\"])\n",
    "            \n",
    "            x_data.append(len(x_data))\n",
    "            y_data_gps1.append(global_errors[\"GPS1\"])\n",
    "            y_data_gps2.append(global_errors[\"GPS2\"])\n",
    "            y_data_combined.append(global_errors[\"Combined\"])\n",
    "            \n",
    "            ax.clear()\n",
    "            ax.plot(x_data, y_data_gps1, label='GPS1 Error')\n",
    "            ax.plot(x_data, y_data_gps2, label='GPS2 Error')\n",
    "            ax.plot(x_data, y_data_combined, label='Combined Error')\n",
    "            \n",
    "            ax.legend()\n",
    "            ax.set_xlabel('Time')\n",
    "            ax.set_ylabel('Cumulative Error')\n",
    "            ax.set_title('Real-time GPS Error Tracking')\n",
    "            break\n",
    "\n",
    "    ani = FuncAnimation(fig, update, interval=1000, cache_frame_data=False)\n",
    "    ani.save('gps_errors.gif', writer='pillow')\n",
    "\n",
    "    try:\n",
    "        plt.show()\n",
    "    except KeyboardInterrupt:\n",
    "        consumer.close()\n",
    "\n",
    "if __name__ == \"__main__\":\n",
    "    main()\n"
   ]
  },
  {
   "cell_type": "code",
   "execution_count": 6,
   "metadata": {},
   "outputs": [
    {
     "name": "stdout",
     "output_type": "stream",
     "text": [
      "Collecting geopy\n",
      "  Downloading geopy-2.4.1-py3-none-any.whl.metadata (6.8 kB)\n",
      "Collecting geographiclib<3,>=1.52 (from geopy)\n",
      "  Downloading geographiclib-2.0-py3-none-any.whl.metadata (1.4 kB)\n",
      "Downloading geopy-2.4.1-py3-none-any.whl (125 kB)\n",
      "Downloading geographiclib-2.0-py3-none-any.whl (40 kB)\n",
      "Installing collected packages: geographiclib, geopy\n",
      "\u001b[2K   \u001b[90m━━━━━━━━━━━━━━━━━━━━━━━━━━━━━━━━━━━━━━━━\u001b[0m \u001b[32m2/2\u001b[0m [geopy]32m1/2\u001b[0m [geopy]\n",
      "\u001b[1A\u001b[2KSuccessfully installed geographiclib-2.0 geopy-2.4.1\n"
     ]
    }
   ],
   "source": [
    "!pip install geopy"
   ]
  },
  {
   "cell_type": "code",
   "execution_count": 3,
   "metadata": {},
   "outputs": [
    {
     "name": "stdout",
     "output_type": "stream",
     "text": [
      "Collecting folium\n",
      "  Downloading folium-0.19.6-py2.py3-none-any.whl.metadata (4.1 kB)\n",
      "Collecting branca>=0.6.0 (from folium)\n",
      "  Downloading branca-0.8.1-py3-none-any.whl.metadata (1.5 kB)\n",
      "Requirement already satisfied: jinja2>=2.9 in /opt/conda/lib/python3.11/site-packages (from folium) (3.1.2)\n",
      "Requirement already satisfied: numpy in /opt/conda/lib/python3.11/site-packages (from folium) (1.24.4)\n",
      "Requirement already satisfied: requests in /opt/conda/lib/python3.11/site-packages (from folium) (2.31.0)\n",
      "Requirement already satisfied: xyzservices in /opt/conda/lib/python3.11/site-packages (from folium) (2023.10.0)\n",
      "Requirement already satisfied: MarkupSafe>=2.0 in /opt/conda/lib/python3.11/site-packages (from jinja2>=2.9->folium) (2.1.3)\n",
      "Requirement already satisfied: charset-normalizer<4,>=2 in /opt/conda/lib/python3.11/site-packages (from requests->folium) (3.3.0)\n",
      "Requirement already satisfied: idna<4,>=2.5 in /opt/conda/lib/python3.11/site-packages (from requests->folium) (3.4)\n",
      "Requirement already satisfied: urllib3<3,>=1.21.1 in /opt/conda/lib/python3.11/site-packages (from requests->folium) (2.0.7)\n",
      "Requirement already satisfied: certifi>=2017.4.17 in /opt/conda/lib/python3.11/site-packages (from requests->folium) (2023.7.22)\n",
      "Downloading folium-0.19.6-py2.py3-none-any.whl (112 kB)\n",
      "Downloading branca-0.8.1-py3-none-any.whl (26 kB)\n",
      "Installing collected packages: branca, folium\n",
      "\u001b[2K   \u001b[90m━━━━━━━━━━━━━━━━━━━━━━━━━━━━━━━━━━━━━━━━\u001b[0m \u001b[32m2/2\u001b[0m [folium]2m1/2\u001b[0m [folium]\n",
      "\u001b[1A\u001b[2KSuccessfully installed branca-0.8.1 folium-0.19.6\n"
     ]
    }
   ],
   "source": [
    "!pip install folium"
   ]
  },
  {
   "cell_type": "code",
   "execution_count": 1,
   "metadata": {},
   "outputs": [
    {
     "name": "stdout",
     "output_type": "stream",
     "text": [
      "Collecting tk\n",
      "  Downloading tk-0.1.0-py3-none-any.whl.metadata (693 bytes)\n",
      "Downloading tk-0.1.0-py3-none-any.whl (3.9 kB)\n",
      "Installing collected packages: tk\n",
      "Successfully installed tk-0.1.0\n"
     ]
    }
   ],
   "source": [
    "!pip install tk"
   ]
  }
 ],
 "metadata": {
  "kernelspec": {
   "display_name": "base",
   "language": "python",
   "name": "python3"
  },
  "language_info": {
   "codemirror_mode": {
    "name": "ipython",
    "version": 3
   },
   "file_extension": ".py",
   "mimetype": "text/x-python",
   "name": "python",
   "nbconvert_exporter": "python",
   "pygments_lexer": "ipython3",
   "version": "3.11.6"
  }
 },
 "nbformat": 4,
 "nbformat_minor": 2
}
